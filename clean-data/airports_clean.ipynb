{
 "cells": [
  {
   "cell_type": "code",
   "execution_count": 1,
   "metadata": {},
   "outputs": [
    {
     "name": "stdout",
     "output_type": "stream",
     "text": [
      "<class 'pandas.core.frame.DataFrame'>\n",
      "RangeIndex: 7698 entries, 0 to 7697\n",
      "Data columns (total 14 columns):\n",
      " #   Column      Non-Null Count  Dtype  \n",
      "---  ------      --------------  -----  \n",
      " 0   Airport_ID  7698 non-null   int64  \n",
      " 1   Name        7698 non-null   object \n",
      " 2   City        7649 non-null   object \n",
      " 3   Country     7698 non-null   object \n",
      " 4   IATA        7698 non-null   object \n",
      " 5   ICAO        7698 non-null   object \n",
      " 6   Latitude    7698 non-null   float64\n",
      " 7   Longitude   7698 non-null   float64\n",
      " 8   Altitude    7698 non-null   int64  \n",
      " 9   Timezone    7698 non-null   object \n",
      " 10  DST         7698 non-null   object \n",
      " 11  TZ          7698 non-null   object \n",
      " 12  Type        7698 non-null   object \n",
      " 13  Source      7698 non-null   object \n",
      "dtypes: float64(2), int64(2), object(10)\n",
      "memory usage: 842.1+ KB\n"
     ]
    }
   ],
   "source": [
    "import pandas as pd\n",
    "import numpy as np\n",
    "\n",
    "dataset = pd.read_csv(\"./data/airports.csv\", encoding=\"ISO-8859-1\") # read the dataset\n",
    "dataset.head() # show the first 5 rows of the dataset\n",
    "dataset.info() # show the information of the dataset"
   ]
  },
  {
   "cell_type": "code",
   "execution_count": 2,
   "metadata": {},
   "outputs": [
    {
     "data": {
      "text/plain": [
       "(7649, 14)"
      ]
     },
     "execution_count": 2,
     "metadata": {},
     "output_type": "execute_result"
    }
   ],
   "source": [
    "dataset = dataset.dropna() # drop the rows with missing values\n",
    "\n",
    "\n",
    "dataset[0:].shape # show the shape of the dataset"
   ]
  },
  {
   "cell_type": "code",
   "execution_count": 5,
   "metadata": {},
   "outputs": [
    {
     "data": {
      "text/plain": [
       "(7649, 14)"
      ]
     },
     "execution_count": 5,
     "metadata": {},
     "output_type": "execute_result"
    }
   ],
   "source": [
    "dataset = dataset.drop_duplicates() # drop the duplicates\n",
    "\n",
    "dataset[0:].shape # show the shape of the dataset"
   ]
  },
  {
   "cell_type": "code",
   "execution_count": 8,
   "metadata": {},
   "outputs": [],
   "source": [
    "dataset.to_csv(\"./data/airports_cleaned.csv\", index=False) # save the cleaned dataset"
   ]
  },
  {
   "cell_type": "code",
   "execution_count": 9,
   "metadata": {},
   "outputs": [
    {
     "name": "stdout",
     "output_type": "stream",
     "text": [
      "File moved successfully!\n"
     ]
    }
   ],
   "source": [
    "import shutil\n",
    "\n",
    "source_path = \"/Users/berkaypolat/documents/travel-planner/clean-data/data/airports_cleaned.csv\"\n",
    "destination_path = \"/Users/berkaypolat/downloads/airports_cleaned.csv\"\n",
    "\n",
    "shutil.move(source_path, destination_path)\n",
    "print(\"File moved successfully!\")"
   ]
  }
 ],
 "metadata": {
  "kernelspec": {
   "display_name": "myenv",
   "language": "python",
   "name": "python3"
  },
  "language_info": {
   "codemirror_mode": {
    "name": "ipython",
    "version": 3
   },
   "file_extension": ".py",
   "mimetype": "text/x-python",
   "name": "python",
   "nbconvert_exporter": "python",
   "pygments_lexer": "ipython3",
   "version": "3.9.6"
  }
 },
 "nbformat": 4,
 "nbformat_minor": 2
}
